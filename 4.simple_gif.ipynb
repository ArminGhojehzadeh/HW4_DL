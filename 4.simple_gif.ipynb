{
  "cells": [
    {
      "cell_type": "code",
      "source": [
        "from PIL import Image\n",
        "import numpy as np\n",
        "import imageio\n",
        "import os\n",
        "# Load your three images\n",
        "image_paths = [\"/content/1.PNG\", \"/content/2.PNG\", \"/content/3.PNG\"]\n",
        "images = [Image.open(path) for path in image_paths]\n",
        "\n",
        "# Resize images to a common size (replace 300, 300 with your desired width and height)\n",
        "common_size = (300, 300)\n",
        "images_resized = [image.resize(common_size) for image in images]\n",
        "\n",
        "# Specify the duration (in seconds) for each frame\n",
        "duration = 1  # 1 seconds for each frame\n",
        "\n",
        "# Create the output GIF file path\n",
        "output_path = \"output.gif\"\n",
        "\n",
        "# Save the GIF\n",
        "imageio.mimsave(output_path, [np.array(image) for image in images_resized], duration=duration)\n",
        "\n",
        "# Display the path to the saved GIF\n",
        "print(f\"GIF saved at: {os.path.abspath(output_path)}\")\n"
      ],
      "metadata": {
        "id": "RZcWx6h852Ro",
        "outputId": "4a73f772-65fb-44ca-c267-adf403076b4e",
        "colab": {
          "base_uri": "https://localhost:8080/"
        }
      },
      "execution_count": 100,
      "outputs": [
        {
          "output_type": "stream",
          "name": "stdout",
          "text": [
            "GIF saved at: /content/output.gif\n"
          ]
        }
      ]
    }
  ],
  "metadata": {
    "colab": {
      "name": "Welcome To Colaboratory",
      "provenance": []
    },
    "kernelspec": {
      "display_name": "Python 3",
      "name": "python3"
    }
  },
  "nbformat": 4,
  "nbformat_minor": 0
}