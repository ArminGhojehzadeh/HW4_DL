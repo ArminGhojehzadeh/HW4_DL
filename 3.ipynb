{
  "cells": [
    {
      "cell_type": "markdown",
      "source": [
        "# Import required packages"
      ],
      "metadata": {
        "id": "YfVNzA7xeXat"
      }
    },
    {
      "cell_type": "code",
      "source": [
        "import torch\n",
        "import torch.nn as nn\n",
        "import torch.nn.functional as F\n",
        "import torch.optim as optim\n",
        "from torch.utils.data import DataLoader, Dataset\n",
        "from torch.nn.utils.rnn import pad_sequence\n",
        "import torchtext\n",
        "from torchtext.data import get_tokenizer\n",
        "\n",
        "### Tokenizer\n",
        "tokenizer = get_tokenizer(\"basic_english\")\n",
        "\n",
        "import numpy as np\n",
        "import pandas as pd\n",
        "from sklearn.model_selection import train_test_split\n",
        "import matplotlib.pyplot as plt\n",
        "import random\n",
        "import math\n",
        "import time\n",
        "\n",
        "SEED = 80\n",
        "\n",
        "random.seed(SEED)\n",
        "np.random.seed(SEED)\n",
        "torch.manual_seed(SEED)\n",
        "torch.cuda.manual_seed(SEED)\n",
        "torch.backends.cudnn.deterministic = True\n",
        "\n",
        "device = torch.device('cuda' if torch.cuda.is_available() else 'cpu')\n",
        "print(f'Device: {device}')"
      ],
      "metadata": {
        "id": "lPVqujDfd0Rp",
        "outputId": "8e76c555-ede5-487b-a4ec-42f01d52819f",
        "colab": {
          "base_uri": "https://localhost:8080/"
        }
      },
      "execution_count": 1,
      "outputs": [
        {
          "output_type": "stream",
          "name": "stdout",
          "text": [
            "Device: cuda\n"
          ]
        }
      ]
    },
    {
      "cell_type": "markdown",
      "source": [
        "# Data Preprocessing"
      ],
      "metadata": {
        "id": "H041CDV9eaR_"
      }
    },
    {
      "cell_type": "code",
      "source": [
        "path = '/content/ferdousi.txt'"
      ],
      "metadata": {
        "id": "VQb5KrxYd-BK"
      },
      "execution_count": 2,
      "outputs": []
    },
    {
      "cell_type": "code",
      "source": [
        "def text_to_data(path):\n",
        "    file_gen = file_reader(path)\n",
        "    poem_dict = {'source':[], 'target':[]}\n",
        "\n",
        "    for line, text in enumerate(file_gen):\n",
        "        if line < 2 : continue # Ignore first two lines\n",
        "        if line % 4 == 2:\n",
        "            b1 = ''\n",
        "            b1 = text[:-1]\n",
        "        elif line % 4  == 3:\n",
        "            b1 = b1 + ' / ' + text[:-1]\n",
        "            poem_dict['source'].append(b1)\n",
        "        elif line % 4 == 0:\n",
        "            b2 = ''\n",
        "            b2 = text[:-1]\n",
        "        else:\n",
        "            b2 = b2 + ' / ' + text[:-1]\n",
        "            poem_dict['target'].append(b2)\n",
        "\n",
        "    return pd.DataFrame(poem_dict)\n",
        "\n",
        "def file_reader(path):\n",
        "    with open(path) as file:\n",
        "        for row in file:\n",
        "            yield row"
      ],
      "metadata": {
        "id": "ELmpM6H-eHD7"
      },
      "execution_count": 3,
      "outputs": []
    },
    {
      "cell_type": "code",
      "source": [
        "df = text_to_data(path)\n",
        "df"
      ],
      "metadata": {
        "id": "0dwYeYNdeJsu",
        "outputId": "c0e7cd88-de15-47eb-8bf3-50c5da669ebd",
        "colab": {
          "base_uri": "https://localhost:8080/",
          "height": 423
        }
      },
      "execution_count": 4,
      "outputs": [
        {
          "output_type": "execute_result",
          "data": {
            "text/plain": [
              "                                                  source  \\\n",
              "0      به نام خداوند جان و خرد / کزین برتر اندیشه برن...   \n",
              "1      خداوند کیوان و گردان سپهر / فروزنده ماه و ناهی...   \n",
              "2      به بینندگان آفریننده را / نبینی مرنجان دو بینن...   \n",
              "3      سخن هر چه زین گوهران بگذرد / نیابد بدو راه جان...   \n",
              "4      ستودن نداند کس او را چو هست / میان بندگی را بب...   \n",
              "...                                                  ...   \n",
              "24799  چو سال اندر آمد به هفتاد ویک / همی زیر بیت اند...   \n",
              "24800  چنانش ستایم که اندر جهان / سخن باشد از آشکار و...   \n",
              "24801  که جاوید باد آن خردمند مرد / همیشه به کام دلش ...   \n",
              "24802  سرآمد کنون قصهٔ یزدگرد / به ماه سفندار مد روز ارد   \n",
              "24803  چواین نامور نامه آمد ببن / ز من روی کشور شود پ...   \n",
              "\n",
              "                                                  target  \n",
              "0        خداوند نام و خداوند جای / خداوند روزی ده رهنمای  \n",
              "1      ز نام و نشان و گمان برترست / نگارندهٔ بر شده پ...  \n",
              "2      نیابد بدو نیز اندیشه راه / که او برتر از نام و...  \n",
              "3      خرد گر سخن برگزیند همی / همان را گزیند که بیند...  \n",
              "4      خرد را و جان را همی سنجد اوی / در اندیشهٔ سخته...  \n",
              "...                                                  ...  \n",
              "24799  همی گاه محمود آباد باد / سرش سبز باد و دلش شاد...  \n",
              "24800   مرا از بزرگان ستایش بود / ستایش ورا در فزایش بود  \n",
              "24801     همش رای و هم دانش وهم نسب / چراغ عجم آفتاب عرب  \n",
              "24802   ز هجرت شده پنج هشتادبار / به نام جهانداور کردگار  \n",
              "24803  از آن پس نمیرم که من زنده ام / که تخم سخن من پ...  \n",
              "\n",
              "[24804 rows x 2 columns]"
            ],
            "text/html": [
              "\n",
              "  <div id=\"df-007010b9-f32e-4ef5-87e3-2366681e33d2\" class=\"colab-df-container\">\n",
              "    <div>\n",
              "<style scoped>\n",
              "    .dataframe tbody tr th:only-of-type {\n",
              "        vertical-align: middle;\n",
              "    }\n",
              "\n",
              "    .dataframe tbody tr th {\n",
              "        vertical-align: top;\n",
              "    }\n",
              "\n",
              "    .dataframe thead th {\n",
              "        text-align: right;\n",
              "    }\n",
              "</style>\n",
              "<table border=\"1\" class=\"dataframe\">\n",
              "  <thead>\n",
              "    <tr style=\"text-align: right;\">\n",
              "      <th></th>\n",
              "      <th>source</th>\n",
              "      <th>target</th>\n",
              "    </tr>\n",
              "  </thead>\n",
              "  <tbody>\n",
              "    <tr>\n",
              "      <th>0</th>\n",
              "      <td>به نام خداوند جان و خرد / کزین برتر اندیشه برن...</td>\n",
              "      <td>خداوند نام و خداوند جای / خداوند روزی ده رهنمای</td>\n",
              "    </tr>\n",
              "    <tr>\n",
              "      <th>1</th>\n",
              "      <td>خداوند کیوان و گردان سپهر / فروزنده ماه و ناهی...</td>\n",
              "      <td>ز نام و نشان و گمان برترست / نگارندهٔ بر شده پ...</td>\n",
              "    </tr>\n",
              "    <tr>\n",
              "      <th>2</th>\n",
              "      <td>به بینندگان آفریننده را / نبینی مرنجان دو بینن...</td>\n",
              "      <td>نیابد بدو نیز اندیشه راه / که او برتر از نام و...</td>\n",
              "    </tr>\n",
              "    <tr>\n",
              "      <th>3</th>\n",
              "      <td>سخن هر چه زین گوهران بگذرد / نیابد بدو راه جان...</td>\n",
              "      <td>خرد گر سخن برگزیند همی / همان را گزیند که بیند...</td>\n",
              "    </tr>\n",
              "    <tr>\n",
              "      <th>4</th>\n",
              "      <td>ستودن نداند کس او را چو هست / میان بندگی را بب...</td>\n",
              "      <td>خرد را و جان را همی سنجد اوی / در اندیشهٔ سخته...</td>\n",
              "    </tr>\n",
              "    <tr>\n",
              "      <th>...</th>\n",
              "      <td>...</td>\n",
              "      <td>...</td>\n",
              "    </tr>\n",
              "    <tr>\n",
              "      <th>24799</th>\n",
              "      <td>چو سال اندر آمد به هفتاد ویک / همی زیر بیت اند...</td>\n",
              "      <td>همی گاه محمود آباد باد / سرش سبز باد و دلش شاد...</td>\n",
              "    </tr>\n",
              "    <tr>\n",
              "      <th>24800</th>\n",
              "      <td>چنانش ستایم که اندر جهان / سخن باشد از آشکار و...</td>\n",
              "      <td>مرا از بزرگان ستایش بود / ستایش ورا در فزایش بود</td>\n",
              "    </tr>\n",
              "    <tr>\n",
              "      <th>24801</th>\n",
              "      <td>که جاوید باد آن خردمند مرد / همیشه به کام دلش ...</td>\n",
              "      <td>همش رای و هم دانش وهم نسب / چراغ عجم آفتاب عرب</td>\n",
              "    </tr>\n",
              "    <tr>\n",
              "      <th>24802</th>\n",
              "      <td>سرآمد کنون قصهٔ یزدگرد / به ماه سفندار مد روز ارد</td>\n",
              "      <td>ز هجرت شده پنج هشتادبار / به نام جهانداور کردگار</td>\n",
              "    </tr>\n",
              "    <tr>\n",
              "      <th>24803</th>\n",
              "      <td>چواین نامور نامه آمد ببن / ز من روی کشور شود پ...</td>\n",
              "      <td>از آن پس نمیرم که من زنده ام / که تخم سخن من پ...</td>\n",
              "    </tr>\n",
              "  </tbody>\n",
              "</table>\n",
              "<p>24804 rows × 2 columns</p>\n",
              "</div>\n",
              "    <div class=\"colab-df-buttons\">\n",
              "\n",
              "  <div class=\"colab-df-container\">\n",
              "    <button class=\"colab-df-convert\" onclick=\"convertToInteractive('df-007010b9-f32e-4ef5-87e3-2366681e33d2')\"\n",
              "            title=\"Convert this dataframe to an interactive table.\"\n",
              "            style=\"display:none;\">\n",
              "\n",
              "  <svg xmlns=\"http://www.w3.org/2000/svg\" height=\"24px\" viewBox=\"0 -960 960 960\">\n",
              "    <path d=\"M120-120v-720h720v720H120Zm60-500h600v-160H180v160Zm220 220h160v-160H400v160Zm0 220h160v-160H400v160ZM180-400h160v-160H180v160Zm440 0h160v-160H620v160ZM180-180h160v-160H180v160Zm440 0h160v-160H620v160Z\"/>\n",
              "  </svg>\n",
              "    </button>\n",
              "\n",
              "  <style>\n",
              "    .colab-df-container {\n",
              "      display:flex;\n",
              "      gap: 12px;\n",
              "    }\n",
              "\n",
              "    .colab-df-convert {\n",
              "      background-color: #E8F0FE;\n",
              "      border: none;\n",
              "      border-radius: 50%;\n",
              "      cursor: pointer;\n",
              "      display: none;\n",
              "      fill: #1967D2;\n",
              "      height: 32px;\n",
              "      padding: 0 0 0 0;\n",
              "      width: 32px;\n",
              "    }\n",
              "\n",
              "    .colab-df-convert:hover {\n",
              "      background-color: #E2EBFA;\n",
              "      box-shadow: 0px 1px 2px rgba(60, 64, 67, 0.3), 0px 1px 3px 1px rgba(60, 64, 67, 0.15);\n",
              "      fill: #174EA6;\n",
              "    }\n",
              "\n",
              "    .colab-df-buttons div {\n",
              "      margin-bottom: 4px;\n",
              "    }\n",
              "\n",
              "    [theme=dark] .colab-df-convert {\n",
              "      background-color: #3B4455;\n",
              "      fill: #D2E3FC;\n",
              "    }\n",
              "\n",
              "    [theme=dark] .colab-df-convert:hover {\n",
              "      background-color: #434B5C;\n",
              "      box-shadow: 0px 1px 3px 1px rgba(0, 0, 0, 0.15);\n",
              "      filter: drop-shadow(0px 1px 2px rgba(0, 0, 0, 0.3));\n",
              "      fill: #FFFFFF;\n",
              "    }\n",
              "  </style>\n",
              "\n",
              "    <script>\n",
              "      const buttonEl =\n",
              "        document.querySelector('#df-007010b9-f32e-4ef5-87e3-2366681e33d2 button.colab-df-convert');\n",
              "      buttonEl.style.display =\n",
              "        google.colab.kernel.accessAllowed ? 'block' : 'none';\n",
              "\n",
              "      async function convertToInteractive(key) {\n",
              "        const element = document.querySelector('#df-007010b9-f32e-4ef5-87e3-2366681e33d2');\n",
              "        const dataTable =\n",
              "          await google.colab.kernel.invokeFunction('convertToInteractive',\n",
              "                                                    [key], {});\n",
              "        if (!dataTable) return;\n",
              "\n",
              "        const docLinkHtml = 'Like what you see? Visit the ' +\n",
              "          '<a target=\"_blank\" href=https://colab.research.google.com/notebooks/data_table.ipynb>data table notebook</a>'\n",
              "          + ' to learn more about interactive tables.';\n",
              "        element.innerHTML = '';\n",
              "        dataTable['output_type'] = 'display_data';\n",
              "        await google.colab.output.renderOutput(dataTable, element);\n",
              "        const docLink = document.createElement('div');\n",
              "        docLink.innerHTML = docLinkHtml;\n",
              "        element.appendChild(docLink);\n",
              "      }\n",
              "    </script>\n",
              "  </div>\n",
              "\n",
              "\n",
              "<div id=\"df-d4b9d234-edfd-40b9-bfd4-ab95542747e2\">\n",
              "  <button class=\"colab-df-quickchart\" onclick=\"quickchart('df-d4b9d234-edfd-40b9-bfd4-ab95542747e2')\"\n",
              "            title=\"Suggest charts\"\n",
              "            style=\"display:none;\">\n",
              "\n",
              "<svg xmlns=\"http://www.w3.org/2000/svg\" height=\"24px\"viewBox=\"0 0 24 24\"\n",
              "     width=\"24px\">\n",
              "    <g>\n",
              "        <path d=\"M19 3H5c-1.1 0-2 .9-2 2v14c0 1.1.9 2 2 2h14c1.1 0 2-.9 2-2V5c0-1.1-.9-2-2-2zM9 17H7v-7h2v7zm4 0h-2V7h2v10zm4 0h-2v-4h2v4z\"/>\n",
              "    </g>\n",
              "</svg>\n",
              "  </button>\n",
              "\n",
              "<style>\n",
              "  .colab-df-quickchart {\n",
              "      --bg-color: #E8F0FE;\n",
              "      --fill-color: #1967D2;\n",
              "      --hover-bg-color: #E2EBFA;\n",
              "      --hover-fill-color: #174EA6;\n",
              "      --disabled-fill-color: #AAA;\n",
              "      --disabled-bg-color: #DDD;\n",
              "  }\n",
              "\n",
              "  [theme=dark] .colab-df-quickchart {\n",
              "      --bg-color: #3B4455;\n",
              "      --fill-color: #D2E3FC;\n",
              "      --hover-bg-color: #434B5C;\n",
              "      --hover-fill-color: #FFFFFF;\n",
              "      --disabled-bg-color: #3B4455;\n",
              "      --disabled-fill-color: #666;\n",
              "  }\n",
              "\n",
              "  .colab-df-quickchart {\n",
              "    background-color: var(--bg-color);\n",
              "    border: none;\n",
              "    border-radius: 50%;\n",
              "    cursor: pointer;\n",
              "    display: none;\n",
              "    fill: var(--fill-color);\n",
              "    height: 32px;\n",
              "    padding: 0;\n",
              "    width: 32px;\n",
              "  }\n",
              "\n",
              "  .colab-df-quickchart:hover {\n",
              "    background-color: var(--hover-bg-color);\n",
              "    box-shadow: 0 1px 2px rgba(60, 64, 67, 0.3), 0 1px 3px 1px rgba(60, 64, 67, 0.15);\n",
              "    fill: var(--button-hover-fill-color);\n",
              "  }\n",
              "\n",
              "  .colab-df-quickchart-complete:disabled,\n",
              "  .colab-df-quickchart-complete:disabled:hover {\n",
              "    background-color: var(--disabled-bg-color);\n",
              "    fill: var(--disabled-fill-color);\n",
              "    box-shadow: none;\n",
              "  }\n",
              "\n",
              "  .colab-df-spinner {\n",
              "    border: 2px solid var(--fill-color);\n",
              "    border-color: transparent;\n",
              "    border-bottom-color: var(--fill-color);\n",
              "    animation:\n",
              "      spin 1s steps(1) infinite;\n",
              "  }\n",
              "\n",
              "  @keyframes spin {\n",
              "    0% {\n",
              "      border-color: transparent;\n",
              "      border-bottom-color: var(--fill-color);\n",
              "      border-left-color: var(--fill-color);\n",
              "    }\n",
              "    20% {\n",
              "      border-color: transparent;\n",
              "      border-left-color: var(--fill-color);\n",
              "      border-top-color: var(--fill-color);\n",
              "    }\n",
              "    30% {\n",
              "      border-color: transparent;\n",
              "      border-left-color: var(--fill-color);\n",
              "      border-top-color: var(--fill-color);\n",
              "      border-right-color: var(--fill-color);\n",
              "    }\n",
              "    40% {\n",
              "      border-color: transparent;\n",
              "      border-right-color: var(--fill-color);\n",
              "      border-top-color: var(--fill-color);\n",
              "    }\n",
              "    60% {\n",
              "      border-color: transparent;\n",
              "      border-right-color: var(--fill-color);\n",
              "    }\n",
              "    80% {\n",
              "      border-color: transparent;\n",
              "      border-right-color: var(--fill-color);\n",
              "      border-bottom-color: var(--fill-color);\n",
              "    }\n",
              "    90% {\n",
              "      border-color: transparent;\n",
              "      border-bottom-color: var(--fill-color);\n",
              "    }\n",
              "  }\n",
              "</style>\n",
              "\n",
              "  <script>\n",
              "    async function quickchart(key) {\n",
              "      const quickchartButtonEl =\n",
              "        document.querySelector('#' + key + ' button');\n",
              "      quickchartButtonEl.disabled = true;  // To prevent multiple clicks.\n",
              "      quickchartButtonEl.classList.add('colab-df-spinner');\n",
              "      try {\n",
              "        const charts = await google.colab.kernel.invokeFunction(\n",
              "            'suggestCharts', [key], {});\n",
              "      } catch (error) {\n",
              "        console.error('Error during call to suggestCharts:', error);\n",
              "      }\n",
              "      quickchartButtonEl.classList.remove('colab-df-spinner');\n",
              "      quickchartButtonEl.classList.add('colab-df-quickchart-complete');\n",
              "    }\n",
              "    (() => {\n",
              "      let quickchartButtonEl =\n",
              "        document.querySelector('#df-d4b9d234-edfd-40b9-bfd4-ab95542747e2 button');\n",
              "      quickchartButtonEl.style.display =\n",
              "        google.colab.kernel.accessAllowed ? 'block' : 'none';\n",
              "    })();\n",
              "  </script>\n",
              "</div>\n",
              "    </div>\n",
              "  </div>\n"
            ]
          },
          "metadata": {},
          "execution_count": 4
        }
      ]
    },
    {
      "cell_type": "markdown",
      "source": [
        "# Train & Test Split"
      ],
      "metadata": {
        "id": "bSSQ3iH1fAgK"
      }
    },
    {
      "cell_type": "code",
      "source": [
        "train_df, test_df = train_test_split(df, test_size=0.2)\n",
        "train_df = train_df.reset_index(drop=True)\n",
        "test_df = test_df.reset_index(drop=True)"
      ],
      "metadata": {
        "id": "gXKyJiECfB8S"
      },
      "execution_count": 5,
      "outputs": []
    },
    {
      "cell_type": "markdown",
      "source": [
        "# Creating a Dictionary for Ferdousi Poems"
      ],
      "metadata": {
        "id": "MB9BWZz2fME_"
      }
    },
    {
      "cell_type": "code",
      "source": [
        "class Vocabulary():\n",
        "    def __init__(self, freq_threshold):\n",
        "        self.itos = {0: \"<PAD>\", 1: \"<SOS>\", 2: \"<EOS>\", 3: \"<UNK>\"}\n",
        "        self.stoi = {\"<PAD>\": 0, \"<SOS>\": 1, \"<EOS>\": 2, \"<UNK>\": 3}\n",
        "        self.freq_threshold = freq_threshold\n",
        "\n",
        "    def __len__(self):\n",
        "        return len(self.itos)\n",
        "\n",
        "    @staticmethod\n",
        "    def tokenizer_eng(text):\n",
        "        return [tok for tok in tokenizer(text)]\n",
        "\n",
        "    def build_vocabulary(self, sentence_list):\n",
        "        frequencies = {}\n",
        "        idx = 4\n",
        "        for sentence in sentence_list:\n",
        "            for word in self.tokenizer_eng(sentence):\n",
        "                if word not in frequencies:\n",
        "                    frequencies[word] = 1\n",
        "\n",
        "                else:\n",
        "                    frequencies[word] += 1\n",
        "\n",
        "                if frequencies[word] == self.freq_threshold:\n",
        "                    self.stoi[word] = idx\n",
        "                    self.itos[idx] = word\n",
        "                    idx += 1\n",
        "\n",
        "    def numericalize(self, text):\n",
        "        tokenized_text = self.tokenizer_eng(text)\n",
        "\n",
        "        return [\n",
        "            self.stoi[token] if token in self.stoi else self.stoi[\"<UNK>\"]\n",
        "            for token in tokenized_text\n",
        "        ]"
      ],
      "metadata": {
        "id": "vGiFjSQNfN8T"
      },
      "execution_count": 6,
      "outputs": []
    },
    {
      "cell_type": "code",
      "source": [
        "threshold=2\n",
        "Ferdousi_Vocab = Vocabulary(threshold)"
      ],
      "metadata": {
        "id": "3188NRoafSid"
      },
      "execution_count": 7,
      "outputs": []
    },
    {
      "cell_type": "markdown",
      "source": [
        "# Train & Test Dataclass"
      ],
      "metadata": {
        "id": "CURbuTELfVwa"
      }
    },
    {
      "cell_type": "code",
      "source": [
        "class FerdousiDataset(Dataset):\n",
        "    def __init__(self, threshold=2, train_df=None, test_df=None, vocabulary=None):\n",
        "\n",
        "        self.train_df = train_df\n",
        "        self.test_df = test_df\n",
        "\n",
        "        if self.train_df is not None:\n",
        "          self.data = self.train_df\n",
        "        else:\n",
        "          self.data = self.test_df\n",
        "\n",
        "        self.data.rename(columns={'source': 'Input', 'target': 'Output'}, inplace=True)\n",
        "\n",
        "        # Initialize vocabulary and build vocab\n",
        "        self.vocab = vocabulary\n",
        "        input_list = self.data['Input'].to_list()\n",
        "        output_list = self.data['Output'].to_list()\n",
        "        input_list.extend(output_list)\n",
        "\n",
        "        if self.train_df is not None:\n",
        "          self.vocab.build_vocabulary(input_list)\n",
        "\n",
        "        self.dictionary_size = len(self.vocab.itos)\n",
        "        self.PAD_IDX = self.vocab.stoi['<PAD>']\n",
        "\n",
        "    def __len__(self):\n",
        "        return len(self.data)\n",
        "\n",
        "    def __getitem__(self, index):\n",
        "        inp = self.data.loc[index,'Input']\n",
        "        out = self.data.loc[index, 'Output']\n",
        "\n",
        "\n",
        "        numericalized_input = [self.vocab.stoi[\"<SOS>\"]]\n",
        "        numericalized_input += self.vocab.numericalize(inp)\n",
        "        numericalized_input.append(self.vocab.stoi[\"<EOS>\"])\n",
        "\n",
        "        numericalized_output = [self.vocab.stoi[\"<SOS>\"]]\n",
        "        numericalized_output += self.vocab.numericalize(out)\n",
        "        numericalized_output.append(self.vocab.stoi[\"<EOS>\"])\n",
        "        sample = {\n",
        "            'Input': torch.tensor(numericalized_input),\n",
        "            'Output': torch.tensor(numericalized_output)\n",
        "        }\n",
        "\n",
        "        return sample"
      ],
      "metadata": {
        "id": "5GDOmodDfbJf"
      },
      "execution_count": 8,
      "outputs": []
    },
    {
      "cell_type": "code",
      "source": [
        "train_dataset = FerdousiDataset(train_df=train_df, vocabulary=Ferdousi_Vocab)\n",
        "test_dataset = FerdousiDataset(test_df=test_df, vocabulary=Ferdousi_Vocab)\n",
        "\n",
        "dictionary_size = train_dataset.dictionary_size\n",
        "print(f'Number of words in Ferdousi dictionary: {dictionary_size:,}')"
      ],
      "metadata": {
        "id": "JmqjEpfYflBc",
        "outputId": "b54d52ef-6683-454f-a01a-4a5f1651dda7",
        "colab": {
          "base_uri": "https://localhost:8080/"
        }
      },
      "execution_count": 9,
      "outputs": [
        {
          "output_type": "stream",
          "name": "stdout",
          "text": [
            "Number of words in Ferdousi dictionary: 9,171\n"
          ]
        }
      ]
    },
    {
      "cell_type": "code",
      "source": [
        "print(f\"Number of training examples: {len(train_dataset):,}\")\n",
        "print(f\"Number of testing examples: {len(test_dataset):,}\")"
      ],
      "metadata": {
        "id": "XL0FN_sifnfp",
        "outputId": "d086b790-c290-4890-a620-ee831899495c",
        "colab": {
          "base_uri": "https://localhost:8080/"
        }
      },
      "execution_count": 10,
      "outputs": [
        {
          "output_type": "stream",
          "name": "stdout",
          "text": [
            "Number of training examples: 19,843\n",
            "Number of testing examples: 4,961\n"
          ]
        }
      ]
    },
    {
      "cell_type": "markdown",
      "source": [
        "# Dataloader"
      ],
      "metadata": {
        "id": "U4WzmpMrfqTT"
      }
    },
    {
      "cell_type": "code",
      "source": [
        "class MyCollate():\n",
        "    def __init__(self, pad_idx):\n",
        "        self.pad_idx = pad_idx\n",
        "\n",
        "    def __call__(self, batch):\n",
        "        inp = [item['Input'] for item in batch]\n",
        "        out = [item['Output'] for item in batch]\n",
        "        Input = pad_sequence(inp, batch_first=False, padding_value=self.pad_idx)\n",
        "        Output = pad_sequence(out, batch_first=False, padding_value=self.pad_idx)\n",
        "\n",
        "\n",
        "        return Input, Output"
      ],
      "metadata": {
        "id": "dPFOsZPqfr-P"
      },
      "execution_count": 11,
      "outputs": []
    },
    {
      "cell_type": "code",
      "source": [
        "BATCH_SIZE = 128\n",
        "pad_idx = train_dataset.vocab.stoi[\"<PAD>\"]\n",
        "\n",
        "train_dataloader = DataLoader(dataset=train_dataset,\n",
        "                              batch_size=BATCH_SIZE,\n",
        "                              shuffle=True,\n",
        "                              collate_fn=MyCollate(pad_idx=pad_idx))\n",
        "test_dataloader = DataLoader(test_dataset,\n",
        "                             batch_size=BATCH_SIZE,\n",
        "                             shuffle=False,\n",
        "                             collate_fn=MyCollate(pad_idx=pad_idx))"
      ],
      "metadata": {
        "id": "IHLx_Au0fzCw"
      },
      "execution_count": 12,
      "outputs": []
    },
    {
      "cell_type": "markdown",
      "source": [
        "# Model-Bidirectional GRU"
      ],
      "metadata": {
        "id": "pljnw0pLf0kV"
      }
    },
    {
      "cell_type": "markdown",
      "source": [
        "# Encoder"
      ],
      "metadata": {
        "id": "6woK9Gk2gDzA"
      }
    },
    {
      "cell_type": "code",
      "source": [
        "class Encoder(nn.Module):\n",
        "    def __init__(self, input_dim, emb_dim, enc_hid_dim, dec_hid_dim, dropout):\n",
        "        super().__init__()\n",
        "\n",
        "        self.embedding = nn.Embedding(input_dim, emb_dim)\n",
        "\n",
        "        self.rnn = nn.GRU(emb_dim, enc_hid_dim, bidirectional = True)\n",
        "\n",
        "        self.fc = nn.Linear(enc_hid_dim * 2, dec_hid_dim)\n",
        "\n",
        "        self.dropout = nn.Dropout(dropout)\n",
        "\n",
        "    def forward(self, src):\n",
        "\n",
        "        #src = [src len, batch size]\n",
        "\n",
        "        embedded = self.dropout(self.embedding(src))\n",
        "\n",
        "        #embedded = [src len, batch size, emb dim]\n",
        "\n",
        "        outputs, hidden = self.rnn(embedded)\n",
        "\n",
        "        #outputs = [src len, batch size, hid dim * num directions]\n",
        "        #hidden = [n layers * num directions, batch size, hid dim]\n",
        "\n",
        "        #hidden is stacked [forward_1, backward_1, forward_2, backward_2, ...]\n",
        "        #outputs are always from the last layer\n",
        "\n",
        "        #hidden [-2, :, : ] is the last of the forwards RNN\n",
        "        #hidden [-1, :, : ] is the last of the backwards RNN\n",
        "\n",
        "        #initial decoder hidden is final hidden state of the forwards and backwards\n",
        "        #  encoder RNNs fed through a linear layer\n",
        "        hidden = torch.tanh(self.fc(torch.cat((hidden[-2,:,:], hidden[-1,:,:]), dim = 1)))\n",
        "\n",
        "        #outputs = [src len, batch size, enc hid dim * 2]\n",
        "        #hidden = [batch size, dec hid dim]\n",
        "\n",
        "        return outputs, hidden"
      ],
      "metadata": {
        "id": "GMNwQzHPgFRJ"
      },
      "execution_count": 13,
      "outputs": []
    },
    {
      "cell_type": "markdown",
      "source": [
        "# Attention\n",
        "it is usefulful to add an attention layer. This will take in the previous hidden state of the decoder, and all of the stacked forward and backward hidden states from the encoder.\n",
        "\n",
        "Intuitively, this layer takes what we have decoded so far, and all of what we have encoded, to produce a vector, that represents which words in the source sentence we should pay the most attention to in order to correctly predict the next word to decode."
      ],
      "metadata": {
        "id": "tGAiBUiJgM-E"
      }
    },
    {
      "cell_type": "code",
      "source": [
        "class Attention(nn.Module):\n",
        "    def __init__(self, enc_hid_dim, dec_hid_dim):\n",
        "        super().__init__()\n",
        "\n",
        "        self.attn = nn.Linear((enc_hid_dim * 2) + dec_hid_dim, dec_hid_dim)\n",
        "        self.v = nn.Linear(dec_hid_dim, 1, bias = False)\n",
        "\n",
        "    def forward(self, hidden, encoder_outputs):\n",
        "\n",
        "        #hidden = [batch size, dec hid dim]\n",
        "        #encoder_outputs = [src len, batch size, enc hid dim * 2]\n",
        "\n",
        "        batch_size = encoder_outputs.shape[1]\n",
        "        src_len = encoder_outputs.shape[0]\n",
        "\n",
        "        #repeat decoder hidden state src_len times\n",
        "        hidden = hidden.unsqueeze(1).repeat(1, src_len, 1)\n",
        "\n",
        "        encoder_outputs = encoder_outputs.permute(1, 0, 2)\n",
        "\n",
        "        #hidden = [batch size, src len, dec hid dim]\n",
        "        #encoder_outputs = [batch size, src len, enc hid dim * 2]\n",
        "\n",
        "        energy = torch.tanh(self.attn(torch.cat((hidden, encoder_outputs), dim = 2)))\n",
        "\n",
        "        #energy = [batch size, src len, dec hid dim]\n",
        "\n",
        "        attention = self.v(energy).squeeze(2)\n",
        "\n",
        "        #attention= [batch size, src len]\n",
        "\n",
        "        return F.softmax(attention, dim=1)"
      ],
      "metadata": {
        "id": "xWlKnoIvgW5b"
      },
      "execution_count": 14,
      "outputs": []
    },
    {
      "cell_type": "markdown",
      "source": [
        "# Decoder"
      ],
      "metadata": {
        "id": "lbWCzpxGgbq0"
      }
    },
    {
      "cell_type": "code",
      "source": [
        "class Decoder(nn.Module):\n",
        "    def __init__(self, output_dim, emb_dim, enc_hid_dim, dec_hid_dim, dropout, attention):\n",
        "        super().__init__()\n",
        "\n",
        "        self.output_dim = output_dim\n",
        "        self.attention = attention\n",
        "\n",
        "        self.embedding = nn.Embedding(output_dim, emb_dim)\n",
        "\n",
        "        self.rnn = nn.GRU((enc_hid_dim * 2) + emb_dim, dec_hid_dim)\n",
        "\n",
        "        self.fc_out = nn.Linear((enc_hid_dim * 2) + dec_hid_dim + emb_dim, output_dim)\n",
        "\n",
        "        self.dropout = nn.Dropout(dropout)\n",
        "\n",
        "    def forward(self, input, hidden, encoder_outputs):\n",
        "\n",
        "        #input = [batch size]\n",
        "        #hidden = [batch size, dec hid dim]\n",
        "        #encoder_outputs = [src len, batch size, enc hid dim * 2]\n",
        "\n",
        "        input = input.unsqueeze(0)\n",
        "\n",
        "        #input = [1, batch size]\n",
        "\n",
        "        embedded = self.dropout(self.embedding(input))\n",
        "\n",
        "        #embedded = [1, batch size, emb dim]\n",
        "\n",
        "        a = self.attention(hidden, encoder_outputs)\n",
        "\n",
        "        #a = [batch size, src len]\n",
        "\n",
        "        a = a.unsqueeze(1)\n",
        "\n",
        "        #a = [batch size, 1, src len]\n",
        "\n",
        "        encoder_outputs = encoder_outputs.permute(1, 0, 2)\n",
        "\n",
        "        #encoder_outputs = [batch size, src len, enc hid dim * 2]\n",
        "\n",
        "        weighted = torch.bmm(a, encoder_outputs)\n",
        "\n",
        "        #weighted = [batch size, 1, enc hid dim * 2]\n",
        "\n",
        "        weighted = weighted.permute(1, 0, 2)\n",
        "\n",
        "        #weighted = [1, batch size, enc hid dim * 2]\n",
        "\n",
        "        rnn_input = torch.cat((embedded, weighted), dim = 2)\n",
        "\n",
        "        #rnn_input = [1, batch size, (enc hid dim * 2) + emb dim]\n",
        "\n",
        "        output, hidden = self.rnn(rnn_input, hidden.unsqueeze(0))\n",
        "\n",
        "        #output = [seq len, batch size, dec hid dim * n directions]\n",
        "        #hidden = [n layers * n directions, batch size, dec hid dim]\n",
        "\n",
        "        #seq len, n layers and n directions will always be 1 in this decoder, therefore:\n",
        "        #output = [1, batch size, dec hid dim]\n",
        "        #hidden = [1, batch size, dec hid dim]\n",
        "        #this also means that output == hidden\n",
        "        assert (output == hidden).all()\n",
        "\n",
        "        embedded = embedded.squeeze(0)\n",
        "        output = output.squeeze(0)\n",
        "        weighted = weighted.squeeze(0)\n",
        "\n",
        "        prediction = self.fc_out(torch.cat((output, weighted, embedded), dim = 1))\n",
        "\n",
        "        #prediction = [batch size, output dim]\n",
        "\n",
        "        return prediction, hidden.squeeze(0)"
      ],
      "metadata": {
        "id": "mcWE20figdok"
      },
      "execution_count": 15,
      "outputs": []
    },
    {
      "cell_type": "markdown",
      "source": [
        "# Seq2Seq"
      ],
      "metadata": {
        "id": "o9bTvfZvgiHt"
      }
    },
    {
      "cell_type": "code",
      "source": [
        "class Seq2Seq(nn.Module):\n",
        "    def __init__(self, encoder, decoder, device):\n",
        "        super().__init__()\n",
        "\n",
        "        self.encoder = encoder\n",
        "        self.decoder = decoder\n",
        "        self.device = device\n",
        "\n",
        "    def forward(self, src, trg, teacher_forcing_ratio = 0.5):\n",
        "\n",
        "        #src = [src len, batch size]\n",
        "        #trg = [trg len, batch size]\n",
        "        #teacher_forcing_ratio is probability to use teacher forcing\n",
        "        #e.g. if teacher_forcing_ratio is 0.75 we use teacher forcing 75% of the time\n",
        "\n",
        "        batch_size = src.shape[1]\n",
        "        trg_len = trg.shape[0]\n",
        "        trg_vocab_size = self.decoder.output_dim\n",
        "\n",
        "        #tensor to store decoder outputs\n",
        "        outputs = torch.zeros(trg_len, batch_size, trg_vocab_size).to(self.device)\n",
        "\n",
        "        #encoder_outputs is all hidden states of the input sequence, back and forwards\n",
        "        #hidden is the final forward and backward hidden states, passed through a linear layer\n",
        "        encoder_outputs, hidden = self.encoder(src)\n",
        "\n",
        "        #first input to the decoder is the <sos> tokens\n",
        "        input = trg[0,:]\n",
        "\n",
        "        for t in range(1, trg_len):\n",
        "\n",
        "            #insert input token embedding, previous hidden state and all encoder hidden states\n",
        "            #receive output tensor (predictions) and new hidden state\n",
        "            output, hidden = self.decoder(input, hidden, encoder_outputs)\n",
        "\n",
        "            #place predictions in a tensor holding predictions for each token\n",
        "            outputs[t] = output\n",
        "\n",
        "            #decide if we are going to use teacher forcing or not\n",
        "            teacher_force = random.random() < teacher_forcing_ratio\n",
        "\n",
        "            #get the highest predicted token from our predictions\n",
        "            top1 = output.argmax(1)\n",
        "\n",
        "            #if teacher forcing, use actual next token as next input\n",
        "            #if not, use predicted token\n",
        "            input = trg[t] if teacher_force else top1\n",
        "\n",
        "        return outputs"
      ],
      "metadata": {
        "id": "FtDpqJe1glYm"
      },
      "execution_count": 16,
      "outputs": []
    },
    {
      "cell_type": "markdown",
      "source": [
        "# Training the Seq2Seq Model"
      ],
      "metadata": {
        "id": "1jVanGX0gpc_"
      }
    },
    {
      "cell_type": "code",
      "source": [
        "TRG_PAD_IDX = train_dataset.PAD_IDX\n",
        "\n",
        "INPUT_DIM = dictionary_size\n",
        "OUTPUT_DIM = dictionary_size\n",
        "ENC_EMB_DIM = 256\n",
        "DEC_EMB_DIM = 256\n",
        "ENC_HID_DIM = 512\n",
        "DEC_HID_DIM = 512\n",
        "ENC_DROPOUT = 0.5\n",
        "DEC_DROPOUT = 0.5\n",
        "\n",
        "attn = Attention(ENC_HID_DIM, DEC_HID_DIM)\n",
        "enc = Encoder(INPUT_DIM, ENC_EMB_DIM, ENC_HID_DIM, DEC_HID_DIM, ENC_DROPOUT)\n",
        "dec = Decoder(OUTPUT_DIM, DEC_EMB_DIM, ENC_HID_DIM, DEC_HID_DIM, DEC_DROPOUT, attn)\n",
        "\n",
        "model = Seq2Seq(enc, dec, device).to(device)\n",
        "\n",
        "optimizer = optim.Adam(model.parameters())\n",
        "criterion = nn.CrossEntropyLoss(ignore_index = TRG_PAD_IDX)"
      ],
      "metadata": {
        "id": "mEEKzYPEgsHa"
      },
      "execution_count": 17,
      "outputs": []
    },
    {
      "cell_type": "code",
      "source": [
        "def init_weights(m):\n",
        "    for name, param in m.named_parameters():\n",
        "        if 'weight' in name:\n",
        "            nn.init.normal_(param.data, mean=0, std=0.01)\n",
        "        else:\n",
        "            nn.init.constant_(param.data, 0)\n",
        "\n",
        "model.apply(init_weights)"
      ],
      "metadata": {
        "id": "lFEBR1Z8gxc8",
        "outputId": "46f7db84-4c13-4cd2-a3f9-c70f02c0c516",
        "colab": {
          "base_uri": "https://localhost:8080/"
        }
      },
      "execution_count": 18,
      "outputs": [
        {
          "output_type": "execute_result",
          "data": {
            "text/plain": [
              "Seq2Seq(\n",
              "  (encoder): Encoder(\n",
              "    (embedding): Embedding(9171, 256)\n",
              "    (rnn): GRU(256, 512, bidirectional=True)\n",
              "    (fc): Linear(in_features=1024, out_features=512, bias=True)\n",
              "    (dropout): Dropout(p=0.5, inplace=False)\n",
              "  )\n",
              "  (decoder): Decoder(\n",
              "    (attention): Attention(\n",
              "      (attn): Linear(in_features=1536, out_features=512, bias=True)\n",
              "      (v): Linear(in_features=512, out_features=1, bias=False)\n",
              "    )\n",
              "    (embedding): Embedding(9171, 256)\n",
              "    (rnn): GRU(1280, 512)\n",
              "    (fc_out): Linear(in_features=1792, out_features=9171, bias=True)\n",
              "    (dropout): Dropout(p=0.5, inplace=False)\n",
              "  )\n",
              ")"
            ]
          },
          "metadata": {},
          "execution_count": 18
        }
      ]
    },
    {
      "cell_type": "markdown",
      "source": [
        "# Number of parameters"
      ],
      "metadata": {
        "id": "toYQQPyGg76X"
      }
    },
    {
      "cell_type": "code",
      "source": [
        "print(f'The model has {sum(p.numel() for p in model.parameters() if p.requires_grad):,} trainable parameters')"
      ],
      "metadata": {
        "id": "tH1ETZA-g9bX",
        "outputId": "fc384f88-4236-425f-a340-40e4fc571f69",
        "colab": {
          "base_uri": "https://localhost:8080/"
        }
      },
      "execution_count": 19,
      "outputs": [
        {
          "output_type": "stream",
          "name": "stdout",
          "text": [
            "The model has 27,572,435 trainable parameters\n"
          ]
        }
      ]
    },
    {
      "cell_type": "markdown",
      "source": [
        "# Training Loop"
      ],
      "metadata": {
        "id": "iKs6FYR3hdFz"
      }
    },
    {
      "cell_type": "code",
      "source": [
        "def train(model, iterator, optimizer, criterion, clip):\n",
        "\n",
        "    model.train()\n",
        "\n",
        "    for i, (input, output) in enumerate(iterator):\n",
        "\n",
        "        src = input.to(device)\n",
        "        trg = output.to(device)\n",
        "\n",
        "        optimizer.zero_grad()\n",
        "\n",
        "        output = model(src, trg, teacher_forcing_ratio=1)\n",
        "\n",
        "        #trg = [trg len, batch size]\n",
        "        #output = [trg len, batch size, output dim]\n",
        "\n",
        "        output_dim = output.shape[-1]\n",
        "\n",
        "        output = output[1:].view(-1, output_dim)\n",
        "        trg = trg[1:].view(-1)\n",
        "\n",
        "        #trg = [(trg len - 1) * batch size]\n",
        "        #output = [(trg len - 1) * batch size, output dim]\n",
        "\n",
        "        loss = criterion(output, trg)\n",
        "\n",
        "        loss.backward()\n",
        "\n",
        "        torch.nn.utils.clip_grad_norm_(model.parameters(), clip)\n",
        "\n",
        "        optimizer.step()"
      ],
      "metadata": {
        "id": "PKiYCcp6hevf"
      },
      "execution_count": 21,
      "outputs": []
    },
    {
      "cell_type": "markdown",
      "source": [
        "# Evaluation Loop"
      ],
      "metadata": {
        "id": "DIhXdnFOhnBM"
      }
    },
    {
      "cell_type": "code",
      "source": [
        "def evaluate(model, iterator, criterion):\n",
        "\n",
        "    model.eval()\n",
        "\n",
        "    epoch_loss = 0\n",
        "    epoch_accuracy = 0\n",
        "    dataset_length = 0\n",
        "\n",
        "    with torch.no_grad():\n",
        "\n",
        "        for i, (input, output) in enumerate(iterator):\n",
        "\n",
        "            src = input.to(device)\n",
        "            trg = output.to(device)\n",
        "\n",
        "            output = model(src, trg, 1) #turn off teacher forcing\n",
        "\n",
        "            #trg = [trg len, batch size]\n",
        "            #output = [trg len, batch size, output dim]\n",
        "            m, n = trg.size()\n",
        "\n",
        "            epoch_accuracy += (output.argmax(dim=2) == trg).sum().item()\n",
        "            dataset_length += (m * n)\n",
        "\n",
        "            output_dim = output.shape[-1]\n",
        "\n",
        "            output = output[1:].view(-1, output_dim)\n",
        "            trg = trg[1:].view(-1)\n",
        "\n",
        "            #trg = [(trg len - 1) * batch size]\n",
        "            #output = [(trg len - 1) * batch size, output dim]\n",
        "\n",
        "            loss = criterion(output, trg)\n",
        "\n",
        "            epoch_loss += loss.item()\n",
        "\n",
        "    return epoch_loss / len(iterator), epoch_accuracy / dataset_length"
      ],
      "metadata": {
        "id": "u054hSaChoTo"
      },
      "execution_count": 22,
      "outputs": []
    },
    {
      "cell_type": "code",
      "source": [
        "def epoch_time(start_time, end_time):\n",
        "    elapsed_time = end_time - start_time\n",
        "    elapsed_mins = int(elapsed_time / 60)\n",
        "    elapsed_secs = int(elapsed_time - (elapsed_mins * 60))\n",
        "    return elapsed_mins, elapsed_secs"
      ],
      "metadata": {
        "id": "swobRFYyhq_G"
      },
      "execution_count": 23,
      "outputs": []
    },
    {
      "cell_type": "markdown",
      "source": [
        "# Model Training"
      ],
      "metadata": {
        "id": "95VbjzoKhBkF"
      }
    },
    {
      "cell_type": "code",
      "source": [
        "N_EPOCHS = 50\n",
        "CLIP = 1\n",
        "\n",
        "best_valid_loss = float('inf')\n",
        "\n",
        "train_loss_epochs = np.zeros(N_EPOCHS)\n",
        "train_accuracy_epochs = np.zeros(N_EPOCHS)\n",
        "\n",
        "for epoch in range(N_EPOCHS):\n",
        "\n",
        "    start_time = time.time()\n",
        "\n",
        "    train(model, train_dataloader, optimizer, criterion, CLIP)\n",
        "\n",
        "    train_loss, train_accuracy = evaluate(model, train_dataloader, criterion)\n",
        "\n",
        "    end_time = time.time()\n",
        "\n",
        "    epoch_mins, epoch_secs = epoch_time(start_time, end_time)\n",
        "\n",
        "    train_loss_epochs[epoch] = train_loss\n",
        "    train_accuracy_epochs[epoch] = train_accuracy\n",
        "\n",
        "\n",
        "    print(f'Epoch: {epoch+1:02} | Time: {epoch_mins}m {epoch_secs}s')\n",
        "    print(f'\\tTrain Loss: {train_loss:.3f}')\n",
        "    print(f'\\tTrain Accuracy: {100 * train_accuracy:.2f}%')"
      ],
      "metadata": {
        "id": "AUh3HoQvhCv8",
        "outputId": "95141615-fa2d-4196-9115-00ac81d1fc68",
        "colab": {
          "base_uri": "https://localhost:8080/"
        }
      },
      "execution_count": 24,
      "outputs": [
        {
          "output_type": "stream",
          "name": "stdout",
          "text": [
            "Epoch: 01 | Time: 1m 8s\n",
            "\tTrain Loss: 5.511\n",
            "\tTrain Accuracy: 15.05%\n",
            "Epoch: 02 | Time: 1m 1s\n",
            "\tTrain Loss: 5.017\n",
            "\tTrain Accuracy: 16.79%\n",
            "Epoch: 03 | Time: 1m 1s\n",
            "\tTrain Loss: 4.660\n",
            "\tTrain Accuracy: 18.06%\n",
            "Epoch: 04 | Time: 1m 1s\n",
            "\tTrain Loss: 4.333\n",
            "\tTrain Accuracy: 19.55%\n",
            "Epoch: 05 | Time: 1m 0s\n",
            "\tTrain Loss: 4.021\n",
            "\tTrain Accuracy: 20.84%\n",
            "Epoch: 06 | Time: 1m 0s\n",
            "\tTrain Loss: 3.728\n",
            "\tTrain Accuracy: 22.64%\n",
            "Epoch: 07 | Time: 1m 0s\n",
            "\tTrain Loss: 3.445\n",
            "\tTrain Accuracy: 24.71%\n",
            "Epoch: 08 | Time: 1m 1s\n",
            "\tTrain Loss: 3.181\n",
            "\tTrain Accuracy: 27.26%\n",
            "Epoch: 09 | Time: 1m 0s\n",
            "\tTrain Loss: 2.919\n",
            "\tTrain Accuracy: 29.79%\n",
            "Epoch: 10 | Time: 1m 0s\n",
            "\tTrain Loss: 2.681\n",
            "\tTrain Accuracy: 32.43%\n",
            "Epoch: 11 | Time: 1m 1s\n",
            "\tTrain Loss: 2.429\n",
            "\tTrain Accuracy: 35.31%\n",
            "Epoch: 12 | Time: 1m 1s\n",
            "\tTrain Loss: 2.184\n",
            "\tTrain Accuracy: 38.26%\n",
            "Epoch: 13 | Time: 1m 1s\n",
            "\tTrain Loss: 1.950\n",
            "\tTrain Accuracy: 41.43%\n",
            "Epoch: 14 | Time: 1m 0s\n",
            "\tTrain Loss: 1.701\n",
            "\tTrain Accuracy: 44.79%\n",
            "Epoch: 15 | Time: 1m 0s\n",
            "\tTrain Loss: 1.473\n",
            "\tTrain Accuracy: 48.22%\n",
            "Epoch: 16 | Time: 1m 2s\n",
            "\tTrain Loss: 1.254\n",
            "\tTrain Accuracy: 51.34%\n",
            "Epoch: 17 | Time: 1m 1s\n",
            "\tTrain Loss: 1.065\n",
            "\tTrain Accuracy: 54.60%\n",
            "Epoch: 18 | Time: 1m 1s\n",
            "\tTrain Loss: 0.889\n",
            "\tTrain Accuracy: 57.38%\n",
            "Epoch: 19 | Time: 1m 1s\n",
            "\tTrain Loss: 0.743\n",
            "\tTrain Accuracy: 59.78%\n",
            "Epoch: 20 | Time: 1m 0s\n",
            "\tTrain Loss: 0.612\n",
            "\tTrain Accuracy: 62.27%\n",
            "Epoch: 21 | Time: 1m 0s\n",
            "\tTrain Loss: 0.508\n",
            "\tTrain Accuracy: 64.28%\n",
            "Epoch: 22 | Time: 1m 1s\n",
            "\tTrain Loss: 0.420\n",
            "\tTrain Accuracy: 65.43%\n",
            "Epoch: 23 | Time: 1m 1s\n",
            "\tTrain Loss: 0.345\n",
            "\tTrain Accuracy: 66.74%\n",
            "Epoch: 24 | Time: 1m 1s\n",
            "\tTrain Loss: 0.283\n",
            "\tTrain Accuracy: 67.77%\n",
            "Epoch: 25 | Time: 1m 0s\n",
            "\tTrain Loss: 0.233\n",
            "\tTrain Accuracy: 68.59%\n",
            "Epoch: 26 | Time: 1m 1s\n",
            "\tTrain Loss: 0.191\n",
            "\tTrain Accuracy: 69.01%\n",
            "Epoch: 27 | Time: 1m 0s\n",
            "\tTrain Loss: 0.161\n",
            "\tTrain Accuracy: 69.49%\n",
            "Epoch: 28 | Time: 1m 1s\n",
            "\tTrain Loss: 0.136\n",
            "\tTrain Accuracy: 69.99%\n",
            "Epoch: 29 | Time: 1m 1s\n",
            "\tTrain Loss: 0.115\n",
            "\tTrain Accuracy: 70.25%\n",
            "Epoch: 30 | Time: 1m 1s\n",
            "\tTrain Loss: 0.097\n",
            "\tTrain Accuracy: 70.66%\n",
            "Epoch: 31 | Time: 1m 1s\n",
            "\tTrain Loss: 0.085\n",
            "\tTrain Accuracy: 70.36%\n",
            "Epoch: 32 | Time: 1m 0s\n",
            "\tTrain Loss: 0.074\n",
            "\tTrain Accuracy: 70.47%\n",
            "Epoch: 33 | Time: 1m 0s\n",
            "\tTrain Loss: 0.064\n",
            "\tTrain Accuracy: 70.71%\n",
            "Epoch: 34 | Time: 1m 1s\n",
            "\tTrain Loss: 0.057\n",
            "\tTrain Accuracy: 70.72%\n",
            "Epoch: 35 | Time: 1m 1s\n",
            "\tTrain Loss: 0.054\n",
            "\tTrain Accuracy: 70.69%\n",
            "Epoch: 36 | Time: 1m 1s\n",
            "\tTrain Loss: 0.048\n",
            "\tTrain Accuracy: 70.61%\n",
            "Epoch: 37 | Time: 1m 0s\n",
            "\tTrain Loss: 0.043\n",
            "\tTrain Accuracy: 70.80%\n",
            "Epoch: 38 | Time: 1m 0s\n",
            "\tTrain Loss: 0.038\n",
            "\tTrain Accuracy: 70.76%\n",
            "Epoch: 39 | Time: 1m 1s\n",
            "\tTrain Loss: 0.036\n",
            "\tTrain Accuracy: 70.93%\n",
            "Epoch: 40 | Time: 1m 1s\n",
            "\tTrain Loss: 0.033\n",
            "\tTrain Accuracy: 70.97%\n",
            "Epoch: 41 | Time: 1m 1s\n",
            "\tTrain Loss: 0.032\n",
            "\tTrain Accuracy: 70.81%\n",
            "Epoch: 42 | Time: 1m 1s\n",
            "\tTrain Loss: 0.029\n",
            "\tTrain Accuracy: 70.68%\n",
            "Epoch: 43 | Time: 1m 0s\n",
            "\tTrain Loss: 0.028\n",
            "\tTrain Accuracy: 70.96%\n",
            "Epoch: 44 | Time: 1m 0s\n",
            "\tTrain Loss: 0.026\n",
            "\tTrain Accuracy: 71.07%\n",
            "Epoch: 45 | Time: 1m 1s\n",
            "\tTrain Loss: 0.025\n",
            "\tTrain Accuracy: 71.12%\n",
            "Epoch: 46 | Time: 1m 1s\n",
            "\tTrain Loss: 0.024\n",
            "\tTrain Accuracy: 70.93%\n",
            "Epoch: 47 | Time: 1m 1s\n",
            "\tTrain Loss: 0.022\n",
            "\tTrain Accuracy: 70.70%\n",
            "Epoch: 48 | Time: 1m 0s\n",
            "\tTrain Loss: 0.022\n",
            "\tTrain Accuracy: 70.67%\n",
            "Epoch: 49 | Time: 1m 1s\n",
            "\tTrain Loss: 0.022\n",
            "\tTrain Accuracy: 70.84%\n",
            "Epoch: 50 | Time: 1m 1s\n",
            "\tTrain Loss: 0.020\n",
            "\tTrain Accuracy: 71.01%\n"
          ]
        }
      ]
    },
    {
      "cell_type": "markdown",
      "source": [
        "# Loss & Accuracy Diagrams"
      ],
      "metadata": {
        "id": "EA78jD6th68_"
      }
    },
    {
      "cell_type": "code",
      "source": [
        "xpoints = np.arange(1, N_EPOCHS+1)\n",
        "ypoints = train_loss_epochs\n",
        "\n",
        "plt.plot(xpoints, ypoints)\n",
        "\n",
        "plt.title(\"Train Loss Diagram\")\n",
        "plt.xlabel(\"# Epoch\")\n",
        "plt.ylabel(\"Cross-Entropy Loss\")\n",
        "\n",
        "plt.show()"
      ],
      "metadata": {
        "id": "2dLKj1WGh8U_",
        "outputId": "cf29960a-8b99-4fc4-fa2b-74b766d84615",
        "colab": {
          "base_uri": "https://localhost:8080/",
          "height": 472
        }
      },
      "execution_count": 25,
      "outputs": [
        {
          "output_type": "display_data",
          "data": {
            "text/plain": [
              "<Figure size 640x480 with 1 Axes>"
            ],
            "image/png": "[encoded data removed]"
          },
          "metadata": {}
        }
      ]
    },
    {
      "cell_type": "code",
      "source": [
        "xpoints = np.arange(1, N_EPOCHS+1)\n",
        "ypoints = train_accuracy_epochs\n",
        "\n",
        "plt.plot(xpoints, ypoints)\n",
        "\n",
        "plt.title(\"Train Accuracy Diagram\")\n",
        "plt.xlabel(\"# Epoch\")\n",
        "plt.ylabel(\"Accuracy\")\n",
        "\n",
        "plt.show()"
      ],
      "metadata": {
        "id": "N74_cbV6iBb3",
        "outputId": "2db78fac-a104-4783-cbe2-f380b8fafbcf",
        "colab": {
          "base_uri": "https://localhost:8080/",
          "height": 472
        }
      },
      "execution_count": 26,
      "outputs": [
        {
          "output_type": "display_data",
          "data": {
            "text/plain": [
              "<Figure size 640x480 with 1 Axes>"
            ],
            "image/png": "[encoded data removed]"
          },
          "metadata": {}
        }
      ]
    },
    {
      "cell_type": "markdown",
      "source": [
        "# Model Testing"
      ],
      "metadata": {
        "id": "UkEf_xIKiGfh"
      }
    },
    {
      "cell_type": "code",
      "source": [
        "test_loss, test_accuracy = evaluate(model, test_dataloader, criterion)\n",
        "\n",
        "print(f'| Test Loss: {test_loss:.3f}')\n",
        "print(f'| Test Accuracy: {100 * test_accuracy:.2f}%')"
      ],
      "metadata": {
        "id": "6lSMBc4miIHa",
        "outputId": "b8ea7bdb-491b-4785-ae5e-cc034ee2384f",
        "colab": {
          "base_uri": "https://localhost:8080/"
        }
      },
      "execution_count": 27,
      "outputs": [
        {
          "output_type": "stream",
          "name": "stdout",
          "text": [
            "| Test Loss: 7.854\n",
            "| Test Accuracy: 17.37%\n"
          ]
        }
      ]
    },
    {
      "cell_type": "code",
      "source": [
        "random_index = random.randint(0, len(test_dataset))\n",
        "\n",
        "print(f\"Current Beyt: {test_dataset.data.loc[random_index,'Input']}\")\n",
        "print(f\"Next: {test_dataset.data.loc[random_index,'Output']}\")"
      ],
      "metadata": {
        "id": "2PMKS1SWiMJG",
        "outputId": "d170cc2f-339d-4dd2-c68c-2242c9bed36a",
        "colab": {
          "base_uri": "https://localhost:8080/"
        }
      },
      "execution_count": 28,
      "outputs": [
        {
          "output_type": "stream",
          "name": "stdout",
          "text": [
            "Current Beyt: که روی زمین را کنم بی سپاه / که خون بارد ابر اندر آوردگاه\n",
            "Next: چنان شد ز گفتار او پهلوان / که گفتی برافشاند خواهد روان\n"
          ]
        }
      ]
    },
    {
      "cell_type": "code",
      "source": [
        "dic = test_dataset[random_index]\n",
        "input = dic['Input']\n",
        "output = dic['Output']\n",
        "\n",
        "model.eval()\n",
        "\n",
        "with torch.no_grad():\n",
        "  src = input.to(device)\n",
        "  src = torch.reshape(src, (len(src), 1))\n",
        "\n",
        "  trg = output.to(device)\n",
        "  trg = torch.reshape(trg, (len(trg), 1))\n",
        "\n",
        "  output = model(src, trg, 0) #turn off teacher forcing\n",
        "\n",
        "  output_dim = output.shape[-1]\n",
        "\n",
        "  output = output[1:].view(-1, output_dim)\n",
        "  trg = trg[1:].view(-1)\n",
        "\n",
        "  output = (output.argmax(dim=1))\n",
        "\n",
        "print(f'Predicted Next Beyt:')\n",
        "\n",
        "for i in range(len(output)):\n",
        "  print(train_dataset.vocab.itos[output[i].item()])"
      ],
      "metadata": {
        "id": "Dwyk6VVdiMqJ",
        "outputId": "5b7436b5-89ea-49f0-8166-429cc11541c5",
        "colab": {
          "base_uri": "https://localhost:8080/"
        }
      },
      "execution_count": 29,
      "outputs": [
        {
          "output_type": "stream",
          "name": "stdout",
          "text": [
            "Predicted Next Beyt:\n",
            "چو\n",
            "خورشید\n",
            "تابان\n",
            "برآمد\n",
            "ز\n",
            "جای\n",
            "/\n",
            "بدرد\n",
            "دل\n",
            "افگند\n",
            "بر\n",
            "تیره\n",
            "خاک\n"
          ]
        }
      ]
    }
  ],
  "metadata": {
    "colab": {
      "name": "Welcome To Colaboratory",
      "provenance": [],
      "gpuType": "T4"
    },
    "kernelspec": {
      "display_name": "Python 3",
      "name": "python3"
    },
    "accelerator": "GPU"
  },
  "nbformat": 4,
  "nbformat_minor": 0
}