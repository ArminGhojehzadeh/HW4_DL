{
  "cells": [
    {
      "cell_type": "markdown",
      "source": [
        "#RGB_MNIST"
      ],
      "metadata": {
        "id": "MHKdxoO18joy"
      }
    },
    {
      "cell_type": "code",
      "source": [
        "import torch\n",
        "from torchvision import datasets, transforms\n",
        "import matplotlib.pyplot as plt\n",
        "import random\n",
        "\n",
        "# Step 1: Load the MNIST dataset\n",
        "transform = transforms.Compose([transforms.ToTensor()])\n",
        "mnist_dataset = datasets.MNIST(root='./data', train=True, download=True, transform=transform)\n",
        "\n",
        "# Step 2: Generate three random numbers for each image\n",
        "def generate_random_numbers():\n",
        "    return [random.random() for _ in range(3)]\n",
        "\n",
        "# Step 3: Create a colorful dataset\n",
        "colorful_dataset = []\n",
        "\n",
        "for image, label in mnist_dataset:\n",
        "    random_numbers = generate_random_numbers()\n",
        "    colored_image = image.repeat(3, 1, 1)  # Repeat the single channel three times\n",
        "    colored_image *= torch.tensor(random_numbers).view(3, 1, 1)  # Multiply by random numbers\n",
        "    colorful_dataset.append((colored_image, label))\n",
        "\n",
        "# Step 4: Display a sample from the colorful dataset\n",
        "sample_image, sample_label = colorful_dataset[0]\n",
        "sample_image = sample_image.permute(1, 2, 0)  # Change the order of channels for display\n",
        "plt.imshow(sample_image)\n",
        "plt.title(f'Label: {sample_label}')\n",
        "plt.show()\n"
      ],
      "metadata": {
        "id": "pMyFTJCz8YF9",
        "outputId": "ba35d5a2-2490-4faf-9e52-2ff1ac16ed98",
        "colab": {
          "base_uri": "https://localhost:8080/",
          "height": 452
        }
      },
      "execution_count": 101,
      "outputs": [
        {
          "output_type": "display_data",
          "data": {
            "text/plain": [
              "<Figure size 640x480 with 1 Axes>"
            ],
            "image/png": "[encoded data removed]"
          },
          "metadata": {}
        }
      ]
    }
  ],
  "metadata": {
    "colab": {
      "name": "Welcome To Colaboratory",
      "provenance": []
    },
    "kernelspec": {
      "display_name": "Python 3",
      "name": "python3"
    }
  },
  "nbformat": 4,
  "nbformat_minor": 0
}